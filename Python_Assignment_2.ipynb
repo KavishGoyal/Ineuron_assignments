{
 "cells": [
  {
   "cell_type": "markdown",
   "metadata": {},
   "source": [
    "1. Create the below pattern using nested for loop in Python.\n",
    "\n",
    "  *\n",
    "  * *\n",
    "  * * *\n",
    "  * * * *\n",
    "  * * * * *\n",
    "  * * * *\n",
    "  * * * \n",
    "  * *\n",
    "  *"
   ]
  },
  {
   "cell_type": "code",
   "execution_count": 28,
   "metadata": {},
   "outputs": [
    {
     "name": "stdout",
     "output_type": "stream",
     "text": [
      "* \r\n",
      "* * \r\n",
      "* * * \r\n",
      "* * * * \r\n",
      "* * * * * \r\n"
     ]
    }
   ],
   "source": [
    "# Function to demonstrate printing pattern \n",
    "def pypart(n): \n",
    "      \n",
    "    # outer loop to handle number of rows \n",
    "    # n in this case \n",
    "    for i in range(0, n): \n",
    "      \n",
    "        # inner loop to handle number of columns \n",
    "        # values changing acc. to outer loop \n",
    "        for j in range(0, i+1): \n",
    "          \n",
    "            # printing stars \n",
    "            print(\"* \",end=\"\") \n",
    "       \n",
    "        # ending line after each row \n",
    "        print(\"\\r\")\n",
    "\n",
    "# Driver Code \n",
    "n = 5\n",
    "pypart(n)"
   ]
  },
  {
   "cell_type": "code",
   "execution_count": 24,
   "metadata": {},
   "outputs": [
    {
     "name": "stdout",
     "output_type": "stream",
     "text": [
      "        * \r\n",
      "      * * \r\n",
      "    * * * \r\n",
      "  * * * * \r\n",
      "* * * * * \r\n"
     ]
    }
   ],
   "source": [
    "# Python 3.x code to demonstrate star pattern \n",
    "\n",
    "# Function to demonstrate printing pattern \n",
    "def pypart2(n): \n",
    "\n",
    "# number of spaces \n",
    "    k = 2*n-2\n",
    "\n",
    "# outer loop to handle number of rows \n",
    "    for i in range(0, n): \n",
    "# inner loop to handle number spaces \n",
    "# values changing acc. to requirement \n",
    "        for j in range(0, k): \n",
    "            print(end=\" \") \n",
    "\n",
    "# decrementing k after each loop \n",
    "        k = k-2\n",
    "\n",
    "# inner loop to handle number of columns \n",
    "# values changing acc. to outer loop \n",
    "        for j in range(0, i+1): \n",
    "\n",
    "# printing stars \n",
    "            print(\"* \", end=\"\") \n",
    "\n",
    "# ending line after each row \n",
    "        print(\"\\r\") \n",
    "\n",
    "# Driver Code \n",
    "n = 5\n",
    "pypart2(n) \n"
   ]
  },
  {
   "cell_type": "code",
   "execution_count": 35,
   "metadata": {},
   "outputs": [
    {
     "name": "stdout",
     "output_type": "stream",
     "text": [
      "* * * * *  \n",
      "* * * *  \n",
      "* * *  \n",
      "* *  \n",
      "*  \n",
      " \n"
     ]
    }
   ],
   "source": [
    "rows = 5\n",
    "for i in range(rows + 1, 0, -1):\n",
    "    for j in range(0, i - 1):\n",
    "        print(\"*\", end=' ')\n",
    "    print(\" \")"
   ]
  },
  {
   "cell_type": "code",
   "execution_count": 30,
   "metadata": {},
   "outputs": [
    {
     "name": "stdout",
     "output_type": "stream",
     "text": [
      "* \r\n",
      "* * \r\n",
      "* * * \r\n",
      "* * * * \r\n",
      "* * * * * \r\n",
      "* * * * \r\n",
      "* * * \r\n",
      "* * \r\n",
      "* \r\n",
      "\r\n"
     ]
    }
   ],
   "source": [
    "def pattern(rows):\n",
    "    \n",
    "    for i in range(0, rows):   ## outer loop to handle rows\n",
    "        for j in range(0, i + 1):  ## inner loop to handle columns\n",
    "            print(\"*\", end=' ')  ## printing stars\n",
    "        print(\"\\r\")   ## ending line after each row\n",
    "\n",
    "    for i in range(rows, 0, -1):  ## outer loop to handle descending rows\n",
    "        for j in range(0, i - 1):  ## inner loop to handle columns\n",
    "            print(\"*\", end=' ')   ## printing stars\n",
    "        print(\"\\r\")   ## ending line after each row\n",
    "    \n",
    "\n",
    "pattern(rows=5) ## calling function to see output"
   ]
  },
  {
   "cell_type": "code",
   "execution_count": 20,
   "metadata": {},
   "outputs": [
    {
     "name": "stdout",
     "output_type": "stream",
     "text": [
      "        * \r\n",
      "       * * \r\n",
      "      * * * \r\n",
      "     * * * * \r\n",
      "    * * * * * \r\n"
     ]
    }
   ],
   "source": [
    "## Function to demonstrate printing pattern triangle \n",
    "def triangle(n): \n",
    "      \n",
    "    # number of spaces \n",
    "    k = 2*n - 2  \n",
    "  \n",
    "    # outer loop to handle number of rows \n",
    "    for i in range(0, n): \n",
    "      \n",
    "        # inner loop to handle number spaces \n",
    "        # values changing acc. to requirement \n",
    "        for j in range(0, k): \n",
    "            print(end=\" \") \n",
    "      \n",
    "        # decrementing k after each loop \n",
    "        k = k - 1\n",
    "      \n",
    "        # inner loop to handle number of columns \n",
    "        # values changing acc. to outer loop \n",
    "        for j in range(0, i+1): \n",
    "          \n",
    "            # printing stars \n",
    "            print(\"* \", end=\"\") \n",
    "      \n",
    "        # ending line after each row \n",
    "        print(\"\\r\") \n",
    "  \n",
    "#Driver Code \n",
    "n = 5\n",
    "triangle(n)"
   ]
  },
  {
   "cell_type": "markdown",
   "metadata": {},
   "source": [
    "2. Write a Python program to reverse a word after accepting the input from the user."
   ]
  },
  {
   "cell_type": "code",
   "execution_count": 56,
   "metadata": {},
   "outputs": [
    {
     "name": "stdout",
     "output_type": "stream",
     "text": [
      "ineuron\n",
      "norueni"
     ]
    }
   ],
   "source": [
    "def reverse_word(word):  ## defining a function which would return reverse word\n",
    "    for i in range(1,len(word)+1):  ##looping in the length of word\n",
    "        print(word[-i],end = '')   ## printing word from last index of word\n",
    "word = input()   ## taking word as input\n",
    "reverse_word(word)  ## calling function to see output"
   ]
  },
  {
   "cell_type": "markdown",
   "metadata": {},
   "source": [
    "## Thanks!!"
   ]
  }
 ],
 "metadata": {
  "kernelspec": {
   "display_name": "Python 3",
   "language": "python",
   "name": "python3"
  },
  "language_info": {
   "codemirror_mode": {
    "name": "ipython",
    "version": 3
   },
   "file_extension": ".py",
   "mimetype": "text/x-python",
   "name": "python",
   "nbconvert_exporter": "python",
   "pygments_lexer": "ipython3",
   "version": "3.8.3"
  }
 },
 "nbformat": 4,
 "nbformat_minor": 4
}

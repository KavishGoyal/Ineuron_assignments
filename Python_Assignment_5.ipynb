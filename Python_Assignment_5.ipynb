{
 "cells": [
  {
   "cell_type": "markdown",
   "metadata": {},
   "source": [
    "1. Write a function to compute 5/0 and use try/except to catch the exceptions."
   ]
  },
  {
   "cell_type": "code",
   "execution_count": 12,
   "metadata": {},
   "outputs": [],
   "source": [
    "def exception_handeling(dividend,divisor):  ## taking a positional argument \n",
    "    try:\n",
    "        print(dividend/divisor)\n",
    "    except ZeroDivisionError:\n",
    "        return \"Can not divide by zero as it gives infinity which is undefined\"\n",
    "    "
   ]
  },
  {
   "cell_type": "code",
   "execution_count": 15,
   "metadata": {},
   "outputs": [
    {
     "data": {
      "text/plain": [
       "'Can not divide by zero as it gives infinity which is undefined'"
      ]
     },
     "execution_count": 15,
     "metadata": {},
     "output_type": "execute_result"
    }
   ],
   "source": [
    "exception_handeling(5,0)"
   ]
  },
  {
   "cell_type": "markdown",
   "metadata": {},
   "source": [
    "2. Implement a Python program to generate all sentences where subject is in [\"Americans\", \"Indians\"] and verb is in [\"Play\", \"watch\"] and the object is in [\"Baseball\",\"cricket\"].\n",
    "\n",
    "Hint: Subject,Verb and Object should be declared in the program as shown below.\n",
    "\n",
    "subjects=[\"Americans \",\"Indians\"]\n",
    "\n",
    "verbs=[\"play\",\"watch\"]\n",
    "\n",
    "objects=[\"Baseball\",\"Cricket\"]\n",
    "\n",
    "Output should come as below:\n",
    "\n",
    "Americans play Baseball.\n",
    "\n",
    "Americans play Cricket.\n",
    "\n",
    "Americans watch Baseball.\n",
    "\n",
    "Americans watch Cricket.\n",
    "\n",
    "Indians play Baseball.\n",
    "\n",
    "Indians play Cricket.\n",
    "\n",
    "Indians watch Baseball.\n",
    "\n",
    "Indians watch Cricket."
   ]
  },
  {
   "cell_type": "code",
   "execution_count": 8,
   "metadata": {},
   "outputs": [],
   "source": [
    "subjects = [\"Americans \",\"Indians\"]\n",
    "\n",
    "verbs=[\"play\",\"watch\"]\n",
    "\n",
    "objects=[\"Baseball\",\"Cricket\"]\n",
    "\n",
    "sentence = [sub + \" \" + verb + \" \" + obj for sub in subjects for verb in verbs for obj in objects]"
   ]
  },
  {
   "cell_type": "code",
   "execution_count": 9,
   "metadata": {},
   "outputs": [
    {
     "name": "stdout",
     "output_type": "stream",
     "text": [
      "Americans  play Baseball\n",
      "Americans  play Cricket\n",
      "Americans  watch Baseball\n",
      "Americans  watch Cricket\n",
      "Indians play Baseball\n",
      "Indians play Cricket\n",
      "Indians watch Baseball\n",
      "Indians watch Cricket\n"
     ]
    }
   ],
   "source": [
    "for sent in sentence:\n",
    "    print(sent)"
   ]
  },
  {
   "cell_type": "markdown",
   "metadata": {},
   "source": [
    "## Thanks!"
   ]
  }
 ],
 "metadata": {
  "kernelspec": {
   "display_name": "Python 3",
   "language": "python",
   "name": "python3"
  },
  "language_info": {
   "codemirror_mode": {
    "name": "ipython",
    "version": 3
   },
   "file_extension": ".py",
   "mimetype": "text/x-python",
   "name": "python",
   "nbconvert_exporter": "python",
   "pygments_lexer": "ipython3",
   "version": "3.8.3"
  }
 },
 "nbformat": 4,
 "nbformat_minor": 4
}
